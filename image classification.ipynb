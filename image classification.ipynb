{
  "nbformat": 4,
  "nbformat_minor": 0,
  "metadata": {
    "colab": {
      "name": "CIFAR10.ipynb",
      "provenance": []
    },
    "kernelspec": {
      "name": "python3",
      "display_name": "Python 3"
    },
    "accelerator": "GPU",
    "widgets": {
      "application/vnd.jupyter.widget-state+json": {
        "798dde1ac95640beb595390cbdfc4568": {
          "model_module": "@jupyter-widgets/controls",
          "model_name": "HBoxModel",
          "state": {
            "_view_name": "HBoxView",
            "_dom_classes": [],
            "_model_name": "HBoxModel",
            "_view_module": "@jupyter-widgets/controls",
            "_model_module_version": "1.5.0",
            "_view_count": null,
            "_view_module_version": "1.5.0",
            "box_style": "",
            "layout": "IPY_MODEL_d18f6a6bfc5944259fa89af6562af90c",
            "_model_module": "@jupyter-widgets/controls",
            "children": [
              "IPY_MODEL_e6532a393f124c50ae9542d8db7efbb4",
              "IPY_MODEL_7012d778ebaf467282ffeac57e77776c"
            ]
          }
        },
        "d18f6a6bfc5944259fa89af6562af90c": {
          "model_module": "@jupyter-widgets/base",
          "model_name": "LayoutModel",
          "state": {
            "_view_name": "LayoutView",
            "grid_template_rows": null,
            "right": null,
            "justify_content": null,
            "_view_module": "@jupyter-widgets/base",
            "overflow": null,
            "_model_module_version": "1.2.0",
            "_view_count": null,
            "flex_flow": null,
            "width": null,
            "min_width": null,
            "border": null,
            "align_items": null,
            "bottom": null,
            "_model_module": "@jupyter-widgets/base",
            "top": null,
            "grid_column": null,
            "overflow_y": null,
            "overflow_x": null,
            "grid_auto_flow": null,
            "grid_area": null,
            "grid_template_columns": null,
            "flex": null,
            "_model_name": "LayoutModel",
            "justify_items": null,
            "grid_row": null,
            "max_height": null,
            "align_content": null,
            "visibility": null,
            "align_self": null,
            "height": null,
            "min_height": null,
            "padding": null,
            "grid_auto_rows": null,
            "grid_gap": null,
            "max_width": null,
            "order": null,
            "_view_module_version": "1.2.0",
            "grid_template_areas": null,
            "object_position": null,
            "object_fit": null,
            "grid_auto_columns": null,
            "margin": null,
            "display": null,
            "left": null
          }
        },
        "e6532a393f124c50ae9542d8db7efbb4": {
          "model_module": "@jupyter-widgets/controls",
          "model_name": "FloatProgressModel",
          "state": {
            "_view_name": "ProgressView",
            "style": "IPY_MODEL_570ddf9047f44fcbbbaff058c1faa296",
            "_dom_classes": [],
            "description": "",
            "_model_name": "FloatProgressModel",
            "bar_style": "info",
            "max": 1,
            "_view_module": "@jupyter-widgets/controls",
            "_model_module_version": "1.5.0",
            "value": 1,
            "_view_count": null,
            "_view_module_version": "1.5.0",
            "orientation": "horizontal",
            "min": 0,
            "description_tooltip": null,
            "_model_module": "@jupyter-widgets/controls",
            "layout": "IPY_MODEL_c970155beb5943b0b5d3396814e50d85"
          }
        },
        "7012d778ebaf467282ffeac57e77776c": {
          "model_module": "@jupyter-widgets/controls",
          "model_name": "HTMLModel",
          "state": {
            "_view_name": "HTMLView",
            "style": "IPY_MODEL_04573376da7649509f4bd768c220d6be",
            "_dom_classes": [],
            "description": "",
            "_model_name": "HTMLModel",
            "placeholder": "​",
            "_view_module": "@jupyter-widgets/controls",
            "_model_module_version": "1.5.0",
            "value": " 170500096/? [00:20&lt;00:00, 52931060.99it/s]",
            "_view_count": null,
            "_view_module_version": "1.5.0",
            "description_tooltip": null,
            "_model_module": "@jupyter-widgets/controls",
            "layout": "IPY_MODEL_410428b44a4e4e9ebf26551d8316f78e"
          }
        },
        "570ddf9047f44fcbbbaff058c1faa296": {
          "model_module": "@jupyter-widgets/controls",
          "model_name": "ProgressStyleModel",
          "state": {
            "_view_name": "StyleView",
            "_model_name": "ProgressStyleModel",
            "description_width": "initial",
            "_view_module": "@jupyter-widgets/base",
            "_model_module_version": "1.5.0",
            "_view_count": null,
            "_view_module_version": "1.2.0",
            "bar_color": null,
            "_model_module": "@jupyter-widgets/controls"
          }
        },
        "c970155beb5943b0b5d3396814e50d85": {
          "model_module": "@jupyter-widgets/base",
          "model_name": "LayoutModel",
          "state": {
            "_view_name": "LayoutView",
            "grid_template_rows": null,
            "right": null,
            "justify_content": null,
            "_view_module": "@jupyter-widgets/base",
            "overflow": null,
            "_model_module_version": "1.2.0",
            "_view_count": null,
            "flex_flow": null,
            "width": null,
            "min_width": null,
            "border": null,
            "align_items": null,
            "bottom": null,
            "_model_module": "@jupyter-widgets/base",
            "top": null,
            "grid_column": null,
            "overflow_y": null,
            "overflow_x": null,
            "grid_auto_flow": null,
            "grid_area": null,
            "grid_template_columns": null,
            "flex": null,
            "_model_name": "LayoutModel",
            "justify_items": null,
            "grid_row": null,
            "max_height": null,
            "align_content": null,
            "visibility": null,
            "align_self": null,
            "height": null,
            "min_height": null,
            "padding": null,
            "grid_auto_rows": null,
            "grid_gap": null,
            "max_width": null,
            "order": null,
            "_view_module_version": "1.2.0",
            "grid_template_areas": null,
            "object_position": null,
            "object_fit": null,
            "grid_auto_columns": null,
            "margin": null,
            "display": null,
            "left": null
          }
        },
        "04573376da7649509f4bd768c220d6be": {
          "model_module": "@jupyter-widgets/controls",
          "model_name": "DescriptionStyleModel",
          "state": {
            "_view_name": "StyleView",
            "_model_name": "DescriptionStyleModel",
            "description_width": "",
            "_view_module": "@jupyter-widgets/base",
            "_model_module_version": "1.5.0",
            "_view_count": null,
            "_view_module_version": "1.2.0",
            "_model_module": "@jupyter-widgets/controls"
          }
        },
        "410428b44a4e4e9ebf26551d8316f78e": {
          "model_module": "@jupyter-widgets/base",
          "model_name": "LayoutModel",
          "state": {
            "_view_name": "LayoutView",
            "grid_template_rows": null,
            "right": null,
            "justify_content": null,
            "_view_module": "@jupyter-widgets/base",
            "overflow": null,
            "_model_module_version": "1.2.0",
            "_view_count": null,
            "flex_flow": null,
            "width": null,
            "min_width": null,
            "border": null,
            "align_items": null,
            "bottom": null,
            "_model_module": "@jupyter-widgets/base",
            "top": null,
            "grid_column": null,
            "overflow_y": null,
            "overflow_x": null,
            "grid_auto_flow": null,
            "grid_area": null,
            "grid_template_columns": null,
            "flex": null,
            "_model_name": "LayoutModel",
            "justify_items": null,
            "grid_row": null,
            "max_height": null,
            "align_content": null,
            "visibility": null,
            "align_self": null,
            "height": null,
            "min_height": null,
            "padding": null,
            "grid_auto_rows": null,
            "grid_gap": null,
            "max_width": null,
            "order": null,
            "_view_module_version": "1.2.0",
            "grid_template_areas": null,
            "object_position": null,
            "object_fit": null,
            "grid_auto_columns": null,
            "margin": null,
            "display": null,
            "left": null
          }
        },
        "028b85910e854392aa86935dcee5a171": {
          "model_module": "@jupyter-widgets/controls",
          "model_name": "HBoxModel",
          "state": {
            "_view_name": "HBoxView",
            "_dom_classes": [],
            "_model_name": "HBoxModel",
            "_view_module": "@jupyter-widgets/controls",
            "_model_module_version": "1.5.0",
            "_view_count": null,
            "_view_module_version": "1.5.0",
            "box_style": "",
            "layout": "IPY_MODEL_78ae52dfd051423da9074cdc6b50e226",
            "_model_module": "@jupyter-widgets/controls",
            "children": [
              "IPY_MODEL_85ca73958381415483571000705693e7",
              "IPY_MODEL_6805713b4e4c41a5a61803724d0cbc26"
            ]
          }
        },
        "78ae52dfd051423da9074cdc6b50e226": {
          "model_module": "@jupyter-widgets/base",
          "model_name": "LayoutModel",
          "state": {
            "_view_name": "LayoutView",
            "grid_template_rows": null,
            "right": null,
            "justify_content": null,
            "_view_module": "@jupyter-widgets/base",
            "overflow": null,
            "_model_module_version": "1.2.0",
            "_view_count": null,
            "flex_flow": null,
            "width": null,
            "min_width": null,
            "border": null,
            "align_items": null,
            "bottom": null,
            "_model_module": "@jupyter-widgets/base",
            "top": null,
            "grid_column": null,
            "overflow_y": null,
            "overflow_x": null,
            "grid_auto_flow": null,
            "grid_area": null,
            "grid_template_columns": null,
            "flex": null,
            "_model_name": "LayoutModel",
            "justify_items": null,
            "grid_row": null,
            "max_height": null,
            "align_content": null,
            "visibility": null,
            "align_self": null,
            "height": null,
            "min_height": null,
            "padding": null,
            "grid_auto_rows": null,
            "grid_gap": null,
            "max_width": null,
            "order": null,
            "_view_module_version": "1.2.0",
            "grid_template_areas": null,
            "object_position": null,
            "object_fit": null,
            "grid_auto_columns": null,
            "margin": null,
            "display": null,
            "left": null
          }
        },
        "85ca73958381415483571000705693e7": {
          "model_module": "@jupyter-widgets/controls",
          "model_name": "FloatProgressModel",
          "state": {
            "_view_name": "ProgressView",
            "style": "IPY_MODEL_57cf1f5da78241928638ed2f27dcdccc",
            "_dom_classes": [],
            "description": "100%",
            "_model_name": "FloatProgressModel",
            "bar_style": "success",
            "max": 553433881,
            "_view_module": "@jupyter-widgets/controls",
            "_model_module_version": "1.5.0",
            "value": 553433881,
            "_view_count": null,
            "_view_module_version": "1.5.0",
            "orientation": "horizontal",
            "min": 0,
            "description_tooltip": null,
            "_model_module": "@jupyter-widgets/controls",
            "layout": "IPY_MODEL_b05effc799fc415aa05fa142f40cdbc9"
          }
        },
        "6805713b4e4c41a5a61803724d0cbc26": {
          "model_module": "@jupyter-widgets/controls",
          "model_name": "HTMLModel",
          "state": {
            "_view_name": "HTMLView",
            "style": "IPY_MODEL_ed3ffa97fbe347ca8aca36fbbabae454",
            "_dom_classes": [],
            "description": "",
            "_model_name": "HTMLModel",
            "placeholder": "​",
            "_view_module": "@jupyter-widgets/controls",
            "_model_module_version": "1.5.0",
            "value": " 528M/528M [2:02:43&lt;00:00, 75.2kB/s]",
            "_view_count": null,
            "_view_module_version": "1.5.0",
            "description_tooltip": null,
            "_model_module": "@jupyter-widgets/controls",
            "layout": "IPY_MODEL_82b99acf704648159c75c4b7228cd2b4"
          }
        },
        "57cf1f5da78241928638ed2f27dcdccc": {
          "model_module": "@jupyter-widgets/controls",
          "model_name": "ProgressStyleModel",
          "state": {
            "_view_name": "StyleView",
            "_model_name": "ProgressStyleModel",
            "description_width": "initial",
            "_view_module": "@jupyter-widgets/base",
            "_model_module_version": "1.5.0",
            "_view_count": null,
            "_view_module_version": "1.2.0",
            "bar_color": null,
            "_model_module": "@jupyter-widgets/controls"
          }
        },
        "b05effc799fc415aa05fa142f40cdbc9": {
          "model_module": "@jupyter-widgets/base",
          "model_name": "LayoutModel",
          "state": {
            "_view_name": "LayoutView",
            "grid_template_rows": null,
            "right": null,
            "justify_content": null,
            "_view_module": "@jupyter-widgets/base",
            "overflow": null,
            "_model_module_version": "1.2.0",
            "_view_count": null,
            "flex_flow": null,
            "width": null,
            "min_width": null,
            "border": null,
            "align_items": null,
            "bottom": null,
            "_model_module": "@jupyter-widgets/base",
            "top": null,
            "grid_column": null,
            "overflow_y": null,
            "overflow_x": null,
            "grid_auto_flow": null,
            "grid_area": null,
            "grid_template_columns": null,
            "flex": null,
            "_model_name": "LayoutModel",
            "justify_items": null,
            "grid_row": null,
            "max_height": null,
            "align_content": null,
            "visibility": null,
            "align_self": null,
            "height": null,
            "min_height": null,
            "padding": null,
            "grid_auto_rows": null,
            "grid_gap": null,
            "max_width": null,
            "order": null,
            "_view_module_version": "1.2.0",
            "grid_template_areas": null,
            "object_position": null,
            "object_fit": null,
            "grid_auto_columns": null,
            "margin": null,
            "display": null,
            "left": null
          }
        },
        "ed3ffa97fbe347ca8aca36fbbabae454": {
          "model_module": "@jupyter-widgets/controls",
          "model_name": "DescriptionStyleModel",
          "state": {
            "_view_name": "StyleView",
            "_model_name": "DescriptionStyleModel",
            "description_width": "",
            "_view_module": "@jupyter-widgets/base",
            "_model_module_version": "1.5.0",
            "_view_count": null,
            "_view_module_version": "1.2.0",
            "_model_module": "@jupyter-widgets/controls"
          }
        },
        "82b99acf704648159c75c4b7228cd2b4": {
          "model_module": "@jupyter-widgets/base",
          "model_name": "LayoutModel",
          "state": {
            "_view_name": "LayoutView",
            "grid_template_rows": null,
            "right": null,
            "justify_content": null,
            "_view_module": "@jupyter-widgets/base",
            "overflow": null,
            "_model_module_version": "1.2.0",
            "_view_count": null,
            "flex_flow": null,
            "width": null,
            "min_width": null,
            "border": null,
            "align_items": null,
            "bottom": null,
            "_model_module": "@jupyter-widgets/base",
            "top": null,
            "grid_column": null,
            "overflow_y": null,
            "overflow_x": null,
            "grid_auto_flow": null,
            "grid_area": null,
            "grid_template_columns": null,
            "flex": null,
            "_model_name": "LayoutModel",
            "justify_items": null,
            "grid_row": null,
            "max_height": null,
            "align_content": null,
            "visibility": null,
            "align_self": null,
            "height": null,
            "min_height": null,
            "padding": null,
            "grid_auto_rows": null,
            "grid_gap": null,
            "max_width": null,
            "order": null,
            "_view_module_version": "1.2.0",
            "grid_template_areas": null,
            "object_position": null,
            "object_fit": null,
            "grid_auto_columns": null,
            "margin": null,
            "display": null,
            "left": null
          }
        }
      }
    }
  },
  "cells": [
    {
      "cell_type": "markdown",
      "metadata": {
        "id": "hknsfQGxjVcr"
      },
      "source": [
        "#**Importing Libraries**"
      ]
    },
    {
      "cell_type": "code",
      "metadata": {
        "id": "9A0GRl7D1Jb_"
      },
      "source": [
        "import numpy as np \n",
        "import pandas as pd \n",
        "\n",
        "from glob import glob\n",
        "import os\n",
        "import matplotlib.pyplot as plt\n",
        "import shutil\n",
        "import torchvision\n",
        "from torchvision import transforms\n",
        "from torchvision import models\n",
        "import torch\n",
        "from torch.autograd import Variable\n",
        "import torch.nn as nn\n",
        "import torch.nn.functional as F\n",
        "from torch.optim import lr_scheduler\n",
        "from torch import optim\n",
        "from torchvision.utils import make_grid\n",
        "from torch.utils.data import Dataset,DataLoader\n",
        "import time\n",
        "%matplotlib inline"
      ],
      "execution_count": null,
      "outputs": []
    },
    {
      "cell_type": "code",
      "metadata": {
        "id": "ucw2GfKo1z4B"
      },
      "source": [
        "is_cuda = False\n",
        "if torch.cuda.is_available():\n",
        "    is_cuda = True\n"
      ],
      "execution_count": null,
      "outputs": []
    },
    {
      "cell_type": "code",
      "metadata": {
        "colab": {
          "base_uri": "https://localhost:8080/",
          "height": 99,
          "referenced_widgets": [
            "798dde1ac95640beb595390cbdfc4568",
            "d18f6a6bfc5944259fa89af6562af90c",
            "e6532a393f124c50ae9542d8db7efbb4",
            "7012d778ebaf467282ffeac57e77776c",
            "570ddf9047f44fcbbbaff058c1faa296",
            "c970155beb5943b0b5d3396814e50d85",
            "04573376da7649509f4bd768c220d6be",
            "410428b44a4e4e9ebf26551d8316f78e"
          ]
        },
        "id": "T2qN05jO1i97",
        "outputId": "600310d3-014d-4106-9c4e-685dbb72ffe8"
      },
      "source": [
        "transform = transforms.Compose([transforms.Resize((224,224))\n",
        "                                       ,transforms.ToTensor()\n",
        "                                       ,transforms.Normalize([0.485, 0.456, 0.406], [0.229, 0.224, 0.225])\n",
        "                                      ])\n",
        "train = torchvision.datasets.CIFAR10(root='./data', train=True,\n",
        "                                        download=True, transform=transform)\n",
        "\n",
        "valid = torchvision.datasets.CIFAR10(root='./data', train=False,\n",
        "                                       download=True, transform=transform)\n"
      ],
      "execution_count": null,
      "outputs": [
        {
          "output_type": "stream",
          "text": [
            "Downloading https://www.cs.toronto.edu/~kriz/cifar-10-python.tar.gz to ./data/cifar-10-python.tar.gz\n"
          ],
          "name": "stdout"
        },
        {
          "output_type": "display_data",
          "data": {
            "application/vnd.jupyter.widget-view+json": {
              "model_id": "798dde1ac95640beb595390cbdfc4568",
              "version_minor": 0,
              "version_major": 2
            },
            "text/plain": [
              "HBox(children=(FloatProgress(value=1.0, bar_style='info', max=1.0), HTML(value='')))"
            ]
          },
          "metadata": {
            "tags": []
          }
        },
        {
          "output_type": "stream",
          "text": [
            "Extracting ./data/cifar-10-python.tar.gz to ./data\n",
            "Files already downloaded and verified\n"
          ],
          "name": "stdout"
        }
      ]
    },
    {
      "cell_type": "code",
      "metadata": {
        "id": "qB5IZRNy2k3p"
      },
      "source": [
        "train_data_loader = torch.utils.data.DataLoader(train,batch_size=32,num_workers=3,shuffle=True)\n",
        "valid_data_loader = torch.utils.data.DataLoader(valid,batch_size=32,num_workers=3,shuffle=True)\n"
      ],
      "execution_count": null,
      "outputs": []
    },
    {
      "cell_type": "code",
      "metadata": {
        "colab": {
          "base_uri": "https://localhost:8080/"
        },
        "id": "t_BOMoqs1_Yw",
        "outputId": "d0c64514-d1b3-4ed4-c22f-3532e65743d7"
      },
      "source": [
        "print(train.class_to_idx)\n",
        "print(train.classes)"
      ],
      "execution_count": null,
      "outputs": [
        {
          "output_type": "stream",
          "text": [
            "{'airplane': 0, 'automobile': 1, 'bird': 2, 'cat': 3, 'deer': 4, 'dog': 5, 'frog': 6, 'horse': 7, 'ship': 8, 'truck': 9}\n",
            "['airplane', 'automobile', 'bird', 'cat', 'deer', 'dog', 'frog', 'horse', 'ship', 'truck']\n"
          ],
          "name": "stdout"
        }
      ]
    },
    {
      "cell_type": "code",
      "metadata": {
        "id": "yLt75Q3u1_bn"
      },
      "source": [
        "class Net(nn.Module):\n",
        "    def __init__(self):\n",
        "        super().__init__()\n",
        "        self.conv1 = nn.Conv2d(3, 10, kernel_size=5)\n",
        "        self.conv2 = nn.Conv2d(10, 20, kernel_size=5)\n",
        "        self.conv2_drop = nn.Dropout2d()\n",
        "        self.fc1 = nn.Linear(56180, 500)\n",
        "        self.fc2 = nn.Linear(500,50)\n",
        "        self.fc3 = nn.Linear(50, 10)\n",
        "\n",
        "    def forward(self, x):\n",
        "        x = F.relu(F.max_pool2d(self.conv1(x), 2))\n",
        "        x = F.relu(F.max_pool2d(self.conv2_drop(self.conv2(x)), 2))\n",
        "        x = x.view(x.size(0), -1)\n",
        "        x = F.relu(self.fc1(x))\n",
        "        x = F.dropout(x, training=self.training)\n",
        "        x = F.relu(self.fc2(x))\n",
        "        x = F.dropout(x,training=self.training)\n",
        "        x = self.fc3(x)\n",
        "        return F.log_softmax(x,dim=1)\n",
        "\n"
      ],
      "execution_count": null,
      "outputs": []
    },
    {
      "cell_type": "code",
      "metadata": {
        "id": "GgWnHAR11jl5"
      },
      "source": [
        "model = Net()\n",
        "if is_cuda:\n",
        "    model.cuda()"
      ],
      "execution_count": null,
      "outputs": []
    },
    {
      "cell_type": "code",
      "metadata": {
        "id": "Gsa26Aka3ske"
      },
      "source": [
        "optimizer = optim.SGD(model.parameters(),lr=0.01,momentum=0.5)"
      ],
      "execution_count": null,
      "outputs": []
    },
    {
      "cell_type": "code",
      "metadata": {
        "id": "c6KQF7k13smb"
      },
      "source": [
        "def fit(epoch,model,data_loader,phase='training',volatile=False):\n",
        "    if phase == 'training':\n",
        "        model.train()\n",
        "    if phase == 'validation':\n",
        "        model.eval()\n",
        "        volatile=True\n",
        "    running_loss = 0.0\n",
        "    running_correct = 0\n",
        "    for batch_idx , (data,target) in enumerate(data_loader):\n",
        "        if is_cuda:\n",
        "            data,target = data.cuda(),target.cuda()\n",
        "        data , target = Variable(data,volatile),Variable(target)\n",
        "        if phase == 'training':\n",
        "            optimizer.zero_grad()\n",
        "        output = model(data) #forward\n",
        "        loss = F.nll_loss(output,target)\n",
        "        \n",
        "        running_loss += F.nll_loss(output,target,size_average=False).item()\n",
        "        preds = output.data.max(dim=1,keepdim=True)[1]\n",
        "        running_correct += preds.eq(target.data.view_as(preds)).cpu().sum()\n",
        "        if phase == 'training':\n",
        "            loss.backward()    #backward\n",
        "            optimizer.step()\n",
        "    \n",
        "    loss = running_loss/len(data_loader.dataset)\n",
        "    accuracy = 100. * running_correct/len(data_loader.dataset)\n",
        "    \n",
        "    print(f'{phase} loss is {loss:{5}.{2}} and {phase} accuracy is {running_correct}/{len(data_loader.dataset)}{accuracy:{10}.{4}}')\n",
        "    return loss,accuracy"
      ],
      "execution_count": null,
      "outputs": []
    },
    {
      "cell_type": "code",
      "metadata": {
        "colab": {
          "base_uri": "https://localhost:8080/"
        },
        "id": "4qg3Wa7v3spq",
        "outputId": "4ee57760-20f3-4953-b19f-a406a0e6bd12"
      },
      "source": [
        "train_losses , train_accuracy = [],[]\n",
        "val_losses , val_accuracy = [],[]\n",
        "for epoch in range(1,20):\n",
        "    epoch_loss, epoch_accuracy = fit(epoch,model,train_data_loader,phase='training')\n",
        "    val_epoch_loss , val_epoch_accuracy = fit(epoch,model,valid_data_loader,phase='validation')\n",
        "    train_losses.append(epoch_loss)\n",
        "    train_accuracy.append(epoch_accuracy)\n",
        "    val_losses.append(val_epoch_loss)\n",
        "    val_accuracy.append(val_epoch_accuracy)"
      ],
      "execution_count": null,
      "outputs": [
        {
          "output_type": "stream",
          "text": [
            "/usr/local/lib/python3.7/dist-packages/torch/nn/_reduction.py:44: UserWarning: size_average and reduce args will be deprecated, please use reduction='sum' instead.\n",
            "  warnings.warn(warning.format(ret))\n"
          ],
          "name": "stderr"
        },
        {
          "output_type": "stream",
          "text": [
            "training loss is   2.0 and training accuracy is 13609/50000     27.22\n",
            "validation loss is   1.7 and validation accuracy is 3957/10000     39.57\n",
            "training loss is   1.8 and training accuracy is 17012/50000     34.02\n",
            "validation loss is   1.7 and validation accuracy is 4486/10000     44.86\n",
            "training loss is   1.8 and training accuracy is 18262/50000     36.52\n",
            "validation loss is   1.6 and validation accuracy is 4579/10000     45.79\n",
            "training loss is   1.7 and training accuracy is 19712/50000     39.42\n",
            "validation loss is   1.5 and validation accuracy is 4844/10000     48.44\n",
            "training loss is   1.6 and training accuracy is 20698/50000      41.4\n",
            "validation loss is   1.5 and validation accuracy is 5024/10000     50.24\n",
            "training loss is   1.6 and training accuracy is 21416/50000     42.83\n",
            "validation loss is   1.5 and validation accuracy is 5004/10000     50.04\n",
            "training loss is   1.6 and training accuracy is 22305/50000     44.61\n",
            "validation loss is   1.4 and validation accuracy is 5318/10000     53.18\n",
            "training loss is   1.5 and training accuracy is 22919/50000     45.84\n",
            "validation loss is   1.3 and validation accuracy is 5444/10000     54.44\n",
            "training loss is   1.5 and training accuracy is 23763/50000     47.53\n",
            "validation loss is   1.4 and validation accuracy is 5515/10000     55.15\n",
            "training loss is   1.4 and training accuracy is 24452/50000      48.9\n",
            "validation loss is   1.3 and validation accuracy is 5575/10000     55.75\n",
            "training loss is   1.4 and training accuracy is 25040/50000     50.08\n",
            "validation loss is   1.3 and validation accuracy is 5787/10000     57.87\n",
            "training loss is   1.4 and training accuracy is 25460/50000     50.92\n",
            "validation loss is   1.2 and validation accuracy is 5761/10000     57.61\n",
            "training loss is   1.4 and training accuracy is 26148/50000      52.3\n",
            "validation loss is   1.2 and validation accuracy is 5826/10000     58.26\n",
            "training loss is   1.3 and training accuracy is 26678/50000     53.36\n",
            "validation loss is   1.3 and validation accuracy is 5769/10000     57.69\n",
            "training loss is   1.3 and training accuracy is 27398/50000      54.8\n",
            "validation loss is   1.2 and validation accuracy is 6001/10000     60.01\n",
            "training loss is   1.2 and training accuracy is 28047/50000     56.09\n",
            "validation loss is   1.2 and validation accuracy is 5901/10000     59.01\n",
            "training loss is   1.2 and training accuracy is 28463/50000     56.93\n",
            "validation loss is   1.2 and validation accuracy is 5815/10000     58.15\n",
            "training loss is   1.2 and training accuracy is 29126/50000     58.25\n",
            "validation loss is   1.2 and validation accuracy is 5778/10000     57.78\n",
            "training loss is   1.2 and training accuracy is 29751/50000      59.5\n",
            "validation loss is   1.2 and validation accuracy is 5852/10000     58.52\n"
          ],
          "name": "stdout"
        }
      ]
    },
    {
      "cell_type": "markdown",
      "metadata": {
        "id": "Mq8SwwAsp_YQ"
      },
      "source": [
        "# **Plotting**"
      ]
    },
    {
      "cell_type": "code",
      "metadata": {
        "colab": {
          "base_uri": "https://localhost:8080/",
          "height": 282
        },
        "id": "LxDl8LcF32Wk",
        "outputId": "0ebd6099-48d2-4f99-8ea6-06dec5b2db5e"
      },
      "source": [
        "plt.plot(range(1,len(train_losses)+1),train_losses,'bo',label = 'training loss')\n",
        "plt.plot(range(1,len(val_losses)+1),val_losses,'r',label = 'validation loss')\n",
        "plt.legend()"
      ],
      "execution_count": null,
      "outputs": [
        {
          "output_type": "execute_result",
          "data": {
            "text/plain": [
              "<matplotlib.legend.Legend at 0x7f3904666090>"
            ]
          },
          "metadata": {
            "tags": []
          },
          "execution_count": 35
        },
        {
          "output_type": "display_data",
          "data": {
            "image/png": "[encoded data removed]",
            "text/plain": [
              "<Figure size 432x288 with 1 Axes>"
            ]
          },
          "metadata": {
            "tags": [],
            "needs_background": "light"
          }
        }
      ]
    },
    {
      "cell_type": "code",
      "metadata": {
        "colab": {
          "base_uri": "https://localhost:8080/",
          "height": 282
        },
        "id": "WiOvt6q532Y1",
        "outputId": "047194ed-3ac0-4fa8-9e39-fd46d016be07"
      },
      "source": [
        "plt.plot(range(1,len(train_accuracy)+1),train_accuracy,'bo',label = 'train accuracy')\n",
        "plt.plot(range(1,len(val_accuracy)+1),val_accuracy,'r',label = 'val accuracy')\n",
        "plt.legend()"
      ],
      "execution_count": null,
      "outputs": [
        {
          "output_type": "execute_result",
          "data": {
            "text/plain": [
              "<matplotlib.legend.Legend at 0x7f390658dd50>"
            ]
          },
          "metadata": {
            "tags": []
          },
          "execution_count": 36
        },
        {
          "output_type": "display_data",
          "data": {
            "image/png": "[encoded data removed]",
            "text/plain": [
              "<Figure size 432x288 with 1 Axes>"
            ]
          },
          "metadata": {
            "tags": [],
            "needs_background": "light"
          }
        }
      ]
    },
    {
      "cell_type": "markdown",
      "metadata": {
        "id": "89_B2tIMkTGH"
      },
      "source": [
        "# **VGG16**"
      ]
    },
    {
      "cell_type": "code",
      "metadata": {
        "colab": {
          "base_uri": "https://localhost:8080/",
          "height": 82,
          "referenced_widgets": [
            "028b85910e854392aa86935dcee5a171",
            "78ae52dfd051423da9074cdc6b50e226",
            "85ca73958381415483571000705693e7",
            "6805713b4e4c41a5a61803724d0cbc26",
            "57cf1f5da78241928638ed2f27dcdccc",
            "b05effc799fc415aa05fa142f40cdbc9",
            "ed3ffa97fbe347ca8aca36fbbabae454",
            "82b99acf704648159c75c4b7228cd2b4"
          ]
        },
        "id": "--Ju4yMb32bk",
        "outputId": "0e27b0f8-361c-4d57-8a6e-d0754a0d8da4"
      },
      "source": [
        "vgg = models.vgg16(pretrained=True)\n",
        "vgg = vgg.cuda()"
      ],
      "execution_count": null,
      "outputs": [
        {
          "output_type": "stream",
          "text": [
            "Downloading: \"https://download.pytorch.org/models/vgg16-397923af.pth\" to /root/.cache/torch/hub/checkpoints/vgg16-397923af.pth\n"
          ],
          "name": "stderr"
        },
        {
          "output_type": "display_data",
          "data": {
            "application/vnd.jupyter.widget-view+json": {
              "model_id": "028b85910e854392aa86935dcee5a171",
              "version_minor": 0,
              "version_major": 2
            },
            "text/plain": [
              "HBox(children=(FloatProgress(value=0.0, max=553433881.0), HTML(value='')))"
            ]
          },
          "metadata": {
            "tags": []
          }
        },
        {
          "output_type": "stream",
          "text": [
            "\n"
          ],
          "name": "stdout"
        }
      ]
    },
    {
      "cell_type": "code",
      "metadata": {
        "colab": {
          "base_uri": "https://localhost:8080/"
        },
        "id": "VGyQCFq9HvjI",
        "outputId": "c9c63f04-d96d-47be-e732-823e4e6def6e"
      },
      "source": [
        "vgg"
      ],
      "execution_count": null,
      "outputs": [
        {
          "output_type": "execute_result",
          "data": {
            "text/plain": [
              "VGG(\n",
              "  (features): Sequential(\n",
              "    (0): Conv2d(3, 64, kernel_size=(3, 3), stride=(1, 1), padding=(1, 1))\n",
              "    (1): ReLU(inplace=True)\n",
              "    (2): Conv2d(64, 64, kernel_size=(3, 3), stride=(1, 1), padding=(1, 1))\n",
              "    (3): ReLU(inplace=True)\n",
              "    (4): MaxPool2d(kernel_size=2, stride=2, padding=0, dilation=1, ceil_mode=False)\n",
              "    (5): Conv2d(64, 128, kernel_size=(3, 3), stride=(1, 1), padding=(1, 1))\n",
              "    (6): ReLU(inplace=True)\n",
              "    (7): Conv2d(128, 128, kernel_size=(3, 3), stride=(1, 1), padding=(1, 1))\n",
              "    (8): ReLU(inplace=True)\n",
              "    (9): MaxPool2d(kernel_size=2, stride=2, padding=0, dilation=1, ceil_mode=False)\n",
              "    (10): Conv2d(128, 256, kernel_size=(3, 3), stride=(1, 1), padding=(1, 1))\n",
              "    (11): ReLU(inplace=True)\n",
              "    (12): Conv2d(256, 256, kernel_size=(3, 3), stride=(1, 1), padding=(1, 1))\n",
              "    (13): ReLU(inplace=True)\n",
              "    (14): Conv2d(256, 256, kernel_size=(3, 3), stride=(1, 1), padding=(1, 1))\n",
              "    (15): ReLU(inplace=True)\n",
              "    (16): MaxPool2d(kernel_size=2, stride=2, padding=0, dilation=1, ceil_mode=False)\n",
              "    (17): Conv2d(256, 512, kernel_size=(3, 3), stride=(1, 1), padding=(1, 1))\n",
              "    (18): ReLU(inplace=True)\n",
              "    (19): Conv2d(512, 512, kernel_size=(3, 3), stride=(1, 1), padding=(1, 1))\n",
              "    (20): ReLU(inplace=True)\n",
              "    (21): Conv2d(512, 512, kernel_size=(3, 3), stride=(1, 1), padding=(1, 1))\n",
              "    (22): ReLU(inplace=True)\n",
              "    (23): MaxPool2d(kernel_size=2, stride=2, padding=0, dilation=1, ceil_mode=False)\n",
              "    (24): Conv2d(512, 512, kernel_size=(3, 3), stride=(1, 1), padding=(1, 1))\n",
              "    (25): ReLU(inplace=True)\n",
              "    (26): Conv2d(512, 512, kernel_size=(3, 3), stride=(1, 1), padding=(1, 1))\n",
              "    (27): ReLU(inplace=True)\n",
              "    (28): Conv2d(512, 512, kernel_size=(3, 3), stride=(1, 1), padding=(1, 1))\n",
              "    (29): ReLU(inplace=True)\n",
              "    (30): MaxPool2d(kernel_size=2, stride=2, padding=0, dilation=1, ceil_mode=False)\n",
              "  )\n",
              "  (avgpool): AdaptiveAvgPool2d(output_size=(7, 7))\n",
              "  (classifier): Sequential(\n",
              "    (0): Linear(in_features=25088, out_features=4096, bias=True)\n",
              "    (1): ReLU(inplace=True)\n",
              "    (2): Dropout(p=0.5, inplace=False)\n",
              "    (3): Linear(in_features=4096, out_features=4096, bias=True)\n",
              "    (4): ReLU(inplace=True)\n",
              "    (5): Dropout(p=0.5, inplace=False)\n",
              "    (6): Linear(in_features=4096, out_features=1000, bias=True)\n",
              "  )\n",
              ")"
            ]
          },
          "metadata": {
            "tags": []
          },
          "execution_count": 38
        }
      ]
    },
    {
      "cell_type": "code",
      "metadata": {
        "id": "-tFyfz4FHvmC"
      },
      "source": [
        "vgg.classifier[6].out_features = 10\n",
        "for param in vgg.features.parameters(): param.requires_grad = False"
      ],
      "execution_count": null,
      "outputs": []
    },
    {
      "cell_type": "code",
      "metadata": {
        "id": "r5EqYm2kHvvU"
      },
      "source": [
        "optimizer = optim.SGD(vgg.classifier.parameters(),lr=0.0001,momentum=0.5)"
      ],
      "execution_count": null,
      "outputs": []
    },
    {
      "cell_type": "code",
      "metadata": {
        "id": "4EqpgtEiHv2P"
      },
      "source": [
        "def fit(epoch,model,data_loader,phase='training',volatile=False):\n",
        "    if phase == 'training':\n",
        "        model.train()\n",
        "    if phase == 'validation':\n",
        "        model.eval()\n",
        "        volatile=True\n",
        "    running_loss = 0.0\n",
        "    running_correct = 0\n",
        "    for batch_idx , (data,target) in enumerate(data_loader):\n",
        "        if is_cuda:\n",
        "            data,target = data.cuda(),target.cuda()\n",
        "        data , target = Variable(data,volatile),Variable(target)\n",
        "        if phase == 'training':\n",
        "            optimizer.zero_grad()\n",
        "        output = model(data)         #forward\n",
        "        loss = F.cross_entropy(output,target)\n",
        "        \n",
        "        running_loss += F.cross_entropy(output,target,size_average=False).item()\n",
        "        preds = output.data.max(dim=1,keepdim=True)[1]\n",
        "        running_correct += preds.eq(target.data.view_as(preds)).cpu().sum()\n",
        "        if phase == 'training':\n",
        "            loss.backward()         # backward\n",
        "            optimizer.step()\n",
        "    \n",
        "    loss = running_loss/len(data_loader.dataset)\n",
        "    accuracy = 100. * running_correct/len(data_loader.dataset)\n",
        "    \n",
        "    print(f'{phase} loss is {loss:{5}.{2}} and {phase} accuracy is {running_correct}/{len(data_loader.dataset)}{accuracy:{10}.{4}}')\n",
        "    return loss,accuracy"
      ],
      "execution_count": null,
      "outputs": []
    },
    {
      "cell_type": "code",
      "metadata": {
        "colab": {
          "base_uri": "https://localhost:8080/"
        },
        "id": "T0e3sZtWHv5J",
        "outputId": "7b02b036-39b8-40dd-d8b4-cfdfc727cf9c"
      },
      "source": [
        "train_losses , train_accuracy = [],[]\n",
        "val_losses , val_accuracy = [],[]\n",
        "for epoch in range(1,10):\n",
        "    epoch_loss, epoch_accuracy = fit(epoch,vgg,train_data_loader,phase='training')\n",
        "    val_epoch_loss , val_epoch_accuracy = fit(epoch,vgg,valid_data_loader,phase='validation')\n",
        "    train_losses.append(epoch_loss)\n",
        "    train_accuracy.append(epoch_accuracy)\n",
        "    val_losses.append(val_epoch_loss)\n",
        "    val_accuracy.append(val_epoch_accuracy)"
      ],
      "execution_count": null,
      "outputs": [
        {
          "output_type": "stream",
          "text": [
            "/usr/local/lib/python3.7/dist-packages/torch/nn/_reduction.py:44: UserWarning: size_average and reduce args will be deprecated, please use reduction='sum' instead.\n",
            "  warnings.warn(warning.format(ret))\n"
          ],
          "name": "stderr"
        },
        {
          "output_type": "stream",
          "text": [
            "training loss is   3.7 and training accuracy is 13591/50000     27.18\n",
            "validation loss is   1.3 and validation accuracy is 6055/10000     60.55\n",
            "training loss is   1.2 and training accuracy is 29862/50000     59.72\n",
            "validation loss is  0.88 and validation accuracy is 7184/10000     71.84\n",
            "training loss is  0.95 and training accuracy is 33813/50000     67.63\n",
            "validation loss is  0.75 and validation accuracy is 7546/10000     75.46\n",
            "training loss is  0.84 and training accuracy is 35658/50000     71.32\n",
            "validation loss is  0.68 and validation accuracy is 7735/10000     77.35\n",
            "training loss is  0.77 and training accuracy is 36844/50000     73.69\n",
            "validation loss is  0.63 and validation accuracy is 7855/10000     78.55\n",
            "training loss is  0.71 and training accuracy is 37615/50000     75.23\n",
            "validation loss is   0.6 and validation accuracy is 7940/10000      79.4\n",
            "training loss is  0.68 and training accuracy is 38287/50000     76.57\n",
            "validation loss is  0.58 and validation accuracy is 7998/10000     79.98\n",
            "training loss is  0.66 and training accuracy is 38510/50000     77.02\n",
            "validation loss is  0.56 and validation accuracy is 8055/10000     80.55\n",
            "training loss is  0.63 and training accuracy is 38972/50000     77.94\n",
            "validation loss is  0.55 and validation accuracy is 8098/10000     80.98\n"
          ],
          "name": "stdout"
        }
      ]
    },
    {
      "cell_type": "code",
      "metadata": {
        "id": "waVtamAu33ED"
      },
      "source": [
        "for layer in vgg.classifier.children():\n",
        "    if(type(layer) == nn.Dropout):\n",
        "        layer.p = 0.2"
      ],
      "execution_count": null,
      "outputs": []
    },
    {
      "cell_type": "code",
      "metadata": {
        "colab": {
          "base_uri": "https://localhost:8080/"
        },
        "id": "TgoIvLO8R8q1",
        "outputId": "315b5650-5ce6-4ff7-f11d-ae6df8b2ea8f"
      },
      "source": [
        "train_losses , train_accuracy = [],[]\n",
        "val_losses , val_accuracy = [],[]\n",
        "for epoch in range(1,3):\n",
        "    epoch_loss, epoch_accuracy = fit(epoch,vgg,train_data_loader,phase='training')\n",
        "    val_epoch_loss , val_epoch_accuracy = fit(epoch,vgg,valid_data_loader,phase='validation')\n",
        "    train_losses.append(epoch_loss)\n",
        "    train_accuracy.append(epoch_accuracy)\n",
        "    val_losses.append(val_epoch_loss)\n",
        "    val_accuracy.append(val_epoch_accuracy)"
      ],
      "execution_count": null,
      "outputs": [
        {
          "output_type": "stream",
          "text": [
            "/usr/local/lib/python3.7/dist-packages/torch/nn/_reduction.py:44: UserWarning: size_average and reduce args will be deprecated, please use reduction='sum' instead.\n",
            "  warnings.warn(warning.format(ret))\n"
          ],
          "name": "stderr"
        },
        {
          "output_type": "stream",
          "text": [
            "training loss is  0.52 and training accuracy is 40965/50000     81.93\n",
            "validation loss is  0.53 and validation accuracy is 8140/10000      81.4\n",
            "training loss is  0.51 and training accuracy is 41153/50000     82.31\n",
            "validation loss is  0.52 and validation accuracy is 8189/10000     81.89\n"
          ],
          "name": "stdout"
        }
      ]
    },
    {
      "cell_type": "markdown",
      "metadata": {
        "id": "wNnjWZHCkCnZ"
      },
      "source": [
        "# **Data Augmentation**"
      ]
    },
    {
      "cell_type": "code",
      "metadata": {
        "colab": {
          "base_uri": "https://localhost:8080/"
        },
        "id": "_Z9_aGQmR8tt",
        "outputId": "fc480406-34e2-4c98-e4b6-de10585417e8"
      },
      "source": [
        "train_transform = transforms.Compose([transforms.Resize((224,224))\n",
        "                                       ,transforms.RandomHorizontalFlip()\n",
        "                                       ,transforms.RandomRotation(0.2)\n",
        "                                       ,transforms.ToTensor()\n",
        "                                       ,transforms.Normalize([0.485, 0.456, 0.406], [0.229, 0.224, 0.225])\n",
        "                                      ])\n",
        "train = torchvision.datasets.CIFAR10(root='./data', train=True,\n",
        "                                        download=True, transform=train_transform)\n",
        "\n",
        "valid = torchvision.datasets.CIFAR10(root='./data', train=False,\n",
        "                                       download=True, transform=train_transform)"
      ],
      "execution_count": null,
      "outputs": [
        {
          "output_type": "stream",
          "text": [
            "Files already downloaded and verified\n",
            "Files already downloaded and verified\n"
          ],
          "name": "stdout"
        }
      ]
    },
    {
      "cell_type": "code",
      "metadata": {
        "id": "1Hkqb0vgR8w0"
      },
      "source": [
        "train_data_loader = DataLoader(train,batch_size=32,num_workers=3,shuffle=True)\n",
        "valid_data_loader = DataLoader(valid,batch_size=32,num_workers=3,shuffle=True)"
      ],
      "execution_count": null,
      "outputs": []
    },
    {
      "cell_type": "code",
      "metadata": {
        "colab": {
          "base_uri": "https://localhost:8080/"
        },
        "id": "k_1FRnXYXi_A",
        "outputId": "6e96b6cd-1330-4ac6-b3da-23bc45bcf5fe"
      },
      "source": [
        "train_losses , train_accuracy = [],[]\n",
        "val_losses , val_accuracy = [],[]\n",
        "for epoch in range(1,3):\n",
        "    epoch_loss, epoch_accuracy = fit(epoch,vgg,train_data_loader,phase='training')\n",
        "    val_epoch_loss , val_epoch_accuracy = fit(epoch,vgg,valid_data_loader,phase='validation')\n",
        "    train_losses.append(epoch_loss)\n",
        "    train_accuracy.append(epoch_accuracy)\n",
        "    val_losses.append(val_epoch_loss)\n",
        "    val_accuracy.append(val_epoch_accuracy)"
      ],
      "execution_count": null,
      "outputs": [
        {
          "output_type": "stream",
          "text": [
            "/usr/local/lib/python3.7/dist-packages/torch/nn/_reduction.py:44: UserWarning: size_average and reduce args will be deprecated, please use reduction='sum' instead.\n",
            "  warnings.warn(warning.format(ret))\n"
          ],
          "name": "stderr"
        },
        {
          "output_type": "stream",
          "text": [
            "training loss is   0.5 and training accuracy is 41216/50000     82.43\n",
            "validation loss is   0.5 and validation accuracy is 8257/10000     82.57\n",
            "training loss is  0.49 and training accuracy is 41371/50000     82.74\n",
            "validation loss is   0.5 and validation accuracy is 8265/10000     82.65\n"
          ],
          "name": "stdout"
        }
      ]
    },
    {
      "cell_type": "code",
      "metadata": {
        "id": "aSIAijDBXjHm"
      },
      "source": [
        ""
      ],
      "execution_count": null,
      "outputs": []
    }
  ]
}